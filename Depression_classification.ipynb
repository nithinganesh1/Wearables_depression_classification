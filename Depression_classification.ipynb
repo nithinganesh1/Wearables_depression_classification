{
 "cells": [
  {
   "cell_type": "code",
   "execution_count": 258,
   "id": "58d5c62b-b1fd-4e6a-a048-0c3dc5a9e004",
   "metadata": {},
   "outputs": [],
   "source": [
    "import numpy as np\n",
    "import pandas as pd\n",
    "pd.set_option('display.max_columns', None)\n",
    "pd.set_option('display.max_rows', None)"
   ]
  },
  {
   "cell_type": "code",
   "execution_count": 259,
   "id": "d3eea334-8085-478b-af89-9bbff1b6fc92",
   "metadata": {},
   "outputs": [],
   "source": [
    "from scipy import signal "
   ]
  },
  {
   "cell_type": "code",
   "execution_count": 260,
   "id": "5f09a31f-9ad3-4f05-a8be-cac894d664ba",
   "metadata": {},
   "outputs": [],
   "source": [
    "data = pd.read_csv(\"dataset/dataframe_hrv.csv\")"
   ]
  },
  {
   "cell_type": "code",
   "execution_count": 261,
   "id": "87c1479b-24f6-483d-811d-644c2d37882b",
   "metadata": {},
   "outputs": [
    {
     "data": {
      "text/html": [
       "<div>\n",
       "<style scoped>\n",
       "    .dataframe tbody tr th:only-of-type {\n",
       "        vertical-align: middle;\n",
       "    }\n",
       "\n",
       "    .dataframe tbody tr th {\n",
       "        vertical-align: top;\n",
       "    }\n",
       "\n",
       "    .dataframe thead th {\n",
       "        text-align: right;\n",
       "    }\n",
       "</style>\n",
       "<table border=\"1\" class=\"dataframe\">\n",
       "  <thead>\n",
       "    <tr style=\"text-align: right;\">\n",
       "      <th></th>\n",
       "      <th>ECG</th>\n",
       "      <th>EMG</th>\n",
       "      <th>HR</th>\n",
       "      <th>RESP</th>\n",
       "      <th>Seconds</th>\n",
       "      <th>footGSR</th>\n",
       "      <th>handGSR</th>\n",
       "      <th>interval in seconds</th>\n",
       "      <th>marker</th>\n",
       "      <th>newtime</th>\n",
       "      <th>stress</th>\n",
       "      <th>time</th>\n",
       "      <th>NNRR</th>\n",
       "      <th>AVNN</th>\n",
       "      <th>SDNN</th>\n",
       "      <th>RMSSD</th>\n",
       "      <th>pNN50</th>\n",
       "      <th>TP</th>\n",
       "      <th>ULF</th>\n",
       "      <th>VLF</th>\n",
       "      <th>LF</th>\n",
       "      <th>HF</th>\n",
       "      <th>LF_HF</th>\n",
       "    </tr>\n",
       "  </thead>\n",
       "  <tbody>\n",
       "    <tr>\n",
       "      <th>0</th>\n",
       "      <td>-0.001974</td>\n",
       "      <td>-0.004737</td>\n",
       "      <td>77.815789</td>\n",
       "      <td>10.801842</td>\n",
       "      <td>12.529684</td>\n",
       "      <td>2.417132</td>\n",
       "      <td>10.889447</td>\n",
       "      <td>0.614632</td>\n",
       "      <td>NaN</td>\n",
       "      <td>12.529684</td>\n",
       "      <td>0.0</td>\n",
       "      <td>12.529684</td>\n",
       "      <td>0.973684</td>\n",
       "      <td>0.617297</td>\n",
       "      <td>3.558630e-02</td>\n",
       "      <td>0.015203</td>\n",
       "      <td>0.055556</td>\n",
       "      <td>0.001238</td>\n",
       "      <td>0.0</td>\n",
       "      <td>0.000696</td>\n",
       "      <td>0.000407</td>\n",
       "      <td>0.000135</td>\n",
       "      <td>3.00200</td>\n",
       "    </tr>\n",
       "    <tr>\n",
       "      <th>1</th>\n",
       "      <td>0.002935</td>\n",
       "      <td>-0.004457</td>\n",
       "      <td>101.978261</td>\n",
       "      <td>10.750609</td>\n",
       "      <td>30.503500</td>\n",
       "      <td>2.417109</td>\n",
       "      <td>11.251065</td>\n",
       "      <td>0.647826</td>\n",
       "      <td>NaN</td>\n",
       "      <td>30.503500</td>\n",
       "      <td>0.0</td>\n",
       "      <td>30.503500</td>\n",
       "      <td>0.978261</td>\n",
       "      <td>0.647889</td>\n",
       "      <td>1.354660e-02</td>\n",
       "      <td>0.013858</td>\n",
       "      <td>0.045455</td>\n",
       "      <td>0.000144</td>\n",
       "      <td>0.0</td>\n",
       "      <td>0.000009</td>\n",
       "      <td>0.000060</td>\n",
       "      <td>0.000075</td>\n",
       "      <td>0.79371</td>\n",
       "    </tr>\n",
       "    <tr>\n",
       "      <th>2</th>\n",
       "      <td>0.006745</td>\n",
       "      <td>-0.003426</td>\n",
       "      <td>104.957447</td>\n",
       "      <td>10.557234</td>\n",
       "      <td>52.523021</td>\n",
       "      <td>2.226872</td>\n",
       "      <td>11.379638</td>\n",
       "      <td>0.646383</td>\n",
       "      <td>NaN</td>\n",
       "      <td>52.523021</td>\n",
       "      <td>0.0</td>\n",
       "      <td>52.523021</td>\n",
       "      <td>0.978723</td>\n",
       "      <td>0.645000</td>\n",
       "      <td>2.240000e-08</td>\n",
       "      <td>0.000000</td>\n",
       "      <td>0.000000</td>\n",
       "      <td>NaN</td>\n",
       "      <td>0.0</td>\n",
       "      <td>NaN</td>\n",
       "      <td>NaN</td>\n",
       "      <td>NaN</td>\n",
       "      <td>NaN</td>\n",
       "    </tr>\n",
       "    <tr>\n",
       "      <th>3</th>\n",
       "      <td>-0.004043</td>\n",
       "      <td>-0.002532</td>\n",
       "      <td>87.702128</td>\n",
       "      <td>10.640128</td>\n",
       "      <td>74.402170</td>\n",
       "      <td>2.173021</td>\n",
       "      <td>11.470830</td>\n",
       "      <td>0.645000</td>\n",
       "      <td>NaN</td>\n",
       "      <td>74.402170</td>\n",
       "      <td>0.0</td>\n",
       "      <td>74.402170</td>\n",
       "      <td>0.978723</td>\n",
       "      <td>0.645000</td>\n",
       "      <td>2.240000e-08</td>\n",
       "      <td>0.000000</td>\n",
       "      <td>0.000000</td>\n",
       "      <td>NaN</td>\n",
       "      <td>0.0</td>\n",
       "      <td>NaN</td>\n",
       "      <td>NaN</td>\n",
       "      <td>NaN</td>\n",
       "      <td>NaN</td>\n",
       "    </tr>\n",
       "    <tr>\n",
       "      <th>4</th>\n",
       "      <td>0.012745</td>\n",
       "      <td>-0.004426</td>\n",
       "      <td>88.829787</td>\n",
       "      <td>10.699319</td>\n",
       "      <td>96.219617</td>\n",
       "      <td>2.017106</td>\n",
       "      <td>11.135255</td>\n",
       "      <td>0.645000</td>\n",
       "      <td>NaN</td>\n",
       "      <td>96.219617</td>\n",
       "      <td>0.0</td>\n",
       "      <td>96.219617</td>\n",
       "      <td>0.978723</td>\n",
       "      <td>0.645000</td>\n",
       "      <td>2.240000e-08</td>\n",
       "      <td>0.000000</td>\n",
       "      <td>0.000000</td>\n",
       "      <td>NaN</td>\n",
       "      <td>0.0</td>\n",
       "      <td>NaN</td>\n",
       "      <td>NaN</td>\n",
       "      <td>NaN</td>\n",
       "      <td>NaN</td>\n",
       "    </tr>\n",
       "  </tbody>\n",
       "</table>\n",
       "</div>"
      ],
      "text/plain": [
       "        ECG       EMG          HR       RESP    Seconds   footGSR    handGSR  \\\n",
       "0 -0.001974 -0.004737   77.815789  10.801842  12.529684  2.417132  10.889447   \n",
       "1  0.002935 -0.004457  101.978261  10.750609  30.503500  2.417109  11.251065   \n",
       "2  0.006745 -0.003426  104.957447  10.557234  52.523021  2.226872  11.379638   \n",
       "3 -0.004043 -0.002532   87.702128  10.640128  74.402170  2.173021  11.470830   \n",
       "4  0.012745 -0.004426   88.829787  10.699319  96.219617  2.017106  11.135255   \n",
       "\n",
       "   interval in seconds  marker    newtime  stress       time      NNRR  \\\n",
       "0             0.614632     NaN  12.529684     0.0  12.529684  0.973684   \n",
       "1             0.647826     NaN  30.503500     0.0  30.503500  0.978261   \n",
       "2             0.646383     NaN  52.523021     0.0  52.523021  0.978723   \n",
       "3             0.645000     NaN  74.402170     0.0  74.402170  0.978723   \n",
       "4             0.645000     NaN  96.219617     0.0  96.219617  0.978723   \n",
       "\n",
       "       AVNN          SDNN     RMSSD     pNN50        TP  ULF       VLF  \\\n",
       "0  0.617297  3.558630e-02  0.015203  0.055556  0.001238  0.0  0.000696   \n",
       "1  0.647889  1.354660e-02  0.013858  0.045455  0.000144  0.0  0.000009   \n",
       "2  0.645000  2.240000e-08  0.000000  0.000000       NaN  0.0       NaN   \n",
       "3  0.645000  2.240000e-08  0.000000  0.000000       NaN  0.0       NaN   \n",
       "4  0.645000  2.240000e-08  0.000000  0.000000       NaN  0.0       NaN   \n",
       "\n",
       "         LF        HF    LF_HF  \n",
       "0  0.000407  0.000135  3.00200  \n",
       "1  0.000060  0.000075  0.79371  \n",
       "2       NaN       NaN      NaN  \n",
       "3       NaN       NaN      NaN  \n",
       "4       NaN       NaN      NaN  "
      ]
     },
     "execution_count": 261,
     "metadata": {},
     "output_type": "execute_result"
    }
   ],
   "source": [
    "data.head()"
   ]
  },
  {
   "cell_type": "code",
   "execution_count": 262,
   "id": "250cff80-ce57-4f49-907f-de2e374eb229",
   "metadata": {},
   "outputs": [
    {
     "name": "stdout",
     "output_type": "stream",
     "text": [
      "<class 'pandas.core.frame.DataFrame'>\n",
      "RangeIndex: 4129 entries, 0 to 4128\n",
      "Data columns (total 23 columns):\n",
      " #   Column               Non-Null Count  Dtype  \n",
      "---  ------               --------------  -----  \n",
      " 0   ECG                  4129 non-null   float64\n",
      " 1   EMG                  4023 non-null   float64\n",
      " 2   HR                   4129 non-null   float64\n",
      " 3   RESP                 4129 non-null   float64\n",
      " 4   Seconds              4129 non-null   float64\n",
      " 5   footGSR              4129 non-null   float64\n",
      " 6   handGSR              4056 non-null   float64\n",
      " 7   interval in seconds  4129 non-null   float64\n",
      " 8   marker               3722 non-null   float64\n",
      " 9   newtime              4129 non-null   float64\n",
      " 10  stress               4129 non-null   float64\n",
      " 11  time                 4129 non-null   float64\n",
      " 12  NNRR                 4129 non-null   float64\n",
      " 13  AVNN                 4129 non-null   float64\n",
      " 14  SDNN                 4007 non-null   float64\n",
      " 15  RMSSD                4129 non-null   float64\n",
      " 16  pNN50                4129 non-null   float64\n",
      " 17  TP                   3830 non-null   float64\n",
      " 18  ULF                  3957 non-null   float64\n",
      " 19  VLF                  4002 non-null   float64\n",
      " 20  LF                   4002 non-null   float64\n",
      " 21  HF                   4002 non-null   float64\n",
      " 22  LF_HF                58 non-null     float64\n",
      "dtypes: float64(23)\n",
      "memory usage: 742.1 KB\n"
     ]
    }
   ],
   "source": [
    "data.info()"
   ]
  },
  {
   "cell_type": "code",
   "execution_count": null,
   "id": "f171d30b-8aa1-4768-a8c2-a542cac52ac2",
   "metadata": {},
   "outputs": [],
   "source": [
    "from ydata_profiling import ProfileReport\n",
    "report = ProfileReport(data)\n",
    "report.to_file(output_file='report.html')\n"
   ]
  },
  {
   "cell_type": "raw",
   "id": "dd174838-b86d-4177-b998-2f48c44d41ce",
   "metadata": {},
   "source": [
    "we need to convert the column stress as categorical value by setting a threshold. Also by observing the profiled report\n",
    "we can observe that some features have more distinct values. so we are going with feature selection by thoroughly studying the report\n"
   ]
  },
  {
   "cell_type": "markdown",
   "id": "c005c6c2-91cb-4d63-a550-c98ee68f66b5",
   "metadata": {},
   "source": [
    "## EDA"
   ]
  },
  {
   "cell_type": "code",
   "execution_count": 264,
   "id": "93836086-52b1-467b-af70-bc161df12cd6",
   "metadata": {},
   "outputs": [],
   "source": [
    "data['stress'] = np.where(data['stress']>=0.5, 1, 0)"
   ]
  },
  {
   "cell_type": "code",
   "execution_count": 265,
   "id": "205df1cb-3baa-462a-a79b-1f035feeb0b6",
   "metadata": {},
   "outputs": [
    {
     "data": {
      "text/plain": [
       "2"
      ]
     },
     "execution_count": 265,
     "metadata": {},
     "output_type": "execute_result"
    }
   ],
   "source": [
    "data.stress.nunique()"
   ]
  },
  {
   "cell_type": "code",
   "execution_count": 266,
   "id": "87c4f1c1-c33a-4ffe-95d4-73b3f7a9bd81",
   "metadata": {},
   "outputs": [],
   "source": [
    "def preprocessing(data1):\n",
    "    data1 = data1.reset_index()\n",
    "    data1 = data1.replace([np.inf, -np.inf], np.nan)\n",
    "\n",
    "    data1['HR'] = signal.medfilt(data1['HR'],13) \n",
    "    data1.fillna(data1.mean(),inplace=True)\n",
    "    return data1"
   ]
  },
  {
   "cell_type": "code",
   "execution_count": 267,
   "id": "06c38dfa-c76a-4fc9-8c0a-c49b209dd360",
   "metadata": {},
   "outputs": [],
   "source": [
    "data = preprocessing(data)"
   ]
  },
  {
   "cell_type": "code",
   "execution_count": 268,
   "id": "8f69946f-1f08-419e-9fe1-34b43c30c615",
   "metadata": {},
   "outputs": [],
   "source": [
    "import matplotlib.pyplot as plt\n",
    "import seaborn as sns\n",
    "%matplotlib inline"
   ]
  },
  {
   "cell_type": "code",
   "execution_count": 269,
   "id": "e89e57c8-9fb1-4077-9512-bd050711a799",
   "metadata": {},
   "outputs": [
    {
     "data": {
      "image/png": "[encoded data removed]",
      "text/plain": [
       "<Figure size 1500x600 with 2 Axes>"
      ]
     },
     "metadata": {},
     "output_type": "display_data"
    }
   ],
   "source": [
    "plt.figure(figsize=(15,6))\n",
    "sns.heatmap(data.corr(),vmax=1,vmin=-1,cmap='RdBu_r')\n",
    "plt.show()"
   ]
  },
  {
   "cell_type": "code",
   "execution_count": 270,
   "id": "268f1b7c-e23e-4f4c-abf4-ee6155d6b464",
   "metadata": {},
   "outputs": [],
   "source": [
    "corr = data.corr()"
   ]
  },
  {
   "cell_type": "code",
   "execution_count": 272,
   "id": "edd0ff75-e02e-4fd7-af95-f48315db8297",
   "metadata": {},
   "outputs": [
    {
     "data": {
      "text/plain": [
       "AVNN                  -0.219761\n",
       "interval in seconds   -0.219544\n",
       "ECG                   -0.117624\n",
       "SDNN                  -0.087153\n",
       "TP                    -0.078893\n",
       "ULF                   -0.072264\n",
       "RMSSD                 -0.055820\n",
       "VLF                   -0.037211\n",
       "LF_HF                 -0.024498\n",
       "RESP                  -0.019364\n",
       "pNN50                 -0.015948\n",
       "index                 -0.006594\n",
       "marker                -0.003297\n",
       "newtime               -0.002406\n",
       "LF                     0.010578\n",
       "HF                     0.020163\n",
       "time                   0.026099\n",
       "Seconds                0.026099\n",
       "EMG                    0.179288\n",
       "NNRR                   0.193135\n",
       "handGSR                0.220786\n",
       "HR                     0.246489\n",
       "footGSR                0.370101\n",
       "stress                 1.000000\n",
       "Name: stress, dtype: float64"
      ]
     },
     "execution_count": 272,
     "metadata": {},
     "output_type": "execute_result"
    }
   ],
   "source": [
    "data.corr()['stress'].sort_values()"
   ]
  },
  {
   "cell_type": "code",
   "execution_count": 273,
   "id": "a4697522-615c-44a2-bf69-7d9fcc0aeb24",
   "metadata": {},
   "outputs": [],
   "source": [
    "needed = ['HR','interval in seconds','AVNN', 'RMSSD', 'pNN50', 'VLF', 'HF']\n",
    "\n",
    "X = data1[needed]\n",
    "y = data1['stress']\n"
   ]
  },
  {
   "cell_type": "code",
   "execution_count": 274,
   "id": "da0c2eba-995b-4637-a018-177da6fc8589",
   "metadata": {},
   "outputs": [
    {
     "data": {
      "text/html": [
       "<div>\n",
       "<style scoped>\n",
       "    .dataframe tbody tr th:only-of-type {\n",
       "        vertical-align: middle;\n",
       "    }\n",
       "\n",
       "    .dataframe tbody tr th {\n",
       "        vertical-align: top;\n",
       "    }\n",
       "\n",
       "    .dataframe thead th {\n",
       "        text-align: right;\n",
       "    }\n",
       "</style>\n",
       "<table border=\"1\" class=\"dataframe\">\n",
       "  <thead>\n",
       "    <tr style=\"text-align: right;\">\n",
       "      <th></th>\n",
       "      <th>HR</th>\n",
       "      <th>interval in seconds</th>\n",
       "      <th>AVNN</th>\n",
       "      <th>RMSSD</th>\n",
       "      <th>pNN50</th>\n",
       "      <th>VLF</th>\n",
       "      <th>HF</th>\n",
       "    </tr>\n",
       "  </thead>\n",
       "  <tbody>\n",
       "    <tr>\n",
       "      <th>0</th>\n",
       "      <td>77.815789</td>\n",
       "      <td>0.614632</td>\n",
       "      <td>0.617297</td>\n",
       "      <td>0.015203</td>\n",
       "      <td>0.055556</td>\n",
       "      <td>0.000696</td>\n",
       "      <td>0.000135</td>\n",
       "    </tr>\n",
       "    <tr>\n",
       "      <th>1</th>\n",
       "      <td>79.521739</td>\n",
       "      <td>0.647826</td>\n",
       "      <td>0.647889</td>\n",
       "      <td>0.013858</td>\n",
       "      <td>0.045455</td>\n",
       "      <td>0.000009</td>\n",
       "      <td>0.000075</td>\n",
       "    </tr>\n",
       "    <tr>\n",
       "      <th>2</th>\n",
       "      <td>87.319149</td>\n",
       "      <td>0.646383</td>\n",
       "      <td>0.645000</td>\n",
       "      <td>0.000000</td>\n",
       "      <td>0.000000</td>\n",
       "      <td>0.000728</td>\n",
       "      <td>0.000001</td>\n",
       "    </tr>\n",
       "    <tr>\n",
       "      <th>3</th>\n",
       "      <td>87.702128</td>\n",
       "      <td>0.645000</td>\n",
       "      <td>0.645000</td>\n",
       "      <td>0.000000</td>\n",
       "      <td>0.000000</td>\n",
       "      <td>0.000728</td>\n",
       "      <td>0.000001</td>\n",
       "    </tr>\n",
       "    <tr>\n",
       "      <th>4</th>\n",
       "      <td>87.702128</td>\n",
       "      <td>0.645000</td>\n",
       "      <td>0.645000</td>\n",
       "      <td>0.000000</td>\n",
       "      <td>0.000000</td>\n",
       "      <td>0.000728</td>\n",
       "      <td>0.000001</td>\n",
       "    </tr>\n",
       "  </tbody>\n",
       "</table>\n",
       "</div>"
      ],
      "text/plain": [
       "          HR  interval in seconds      AVNN     RMSSD     pNN50       VLF  \\\n",
       "0  77.815789             0.614632  0.617297  0.015203  0.055556  0.000696   \n",
       "1  79.521739             0.647826  0.647889  0.013858  0.045455  0.000009   \n",
       "2  87.319149             0.646383  0.645000  0.000000  0.000000  0.000728   \n",
       "3  87.702128             0.645000  0.645000  0.000000  0.000000  0.000728   \n",
       "4  87.702128             0.645000  0.645000  0.000000  0.000000  0.000728   \n",
       "\n",
       "         HF  \n",
       "0  0.000135  \n",
       "1  0.000075  \n",
       "2  0.000001  \n",
       "3  0.000001  \n",
       "4  0.000001  "
      ]
     },
     "execution_count": 274,
     "metadata": {},
     "output_type": "execute_result"
    }
   ],
   "source": [
    "X.head()"
   ]
  },
  {
   "cell_type": "code",
   "execution_count": 275,
   "id": "15245ebe-c5eb-48e0-a35c-41d28d13a889",
   "metadata": {},
   "outputs": [
    {
     "data": {
      "text/plain": [
       "0    0\n",
       "1    0\n",
       "2    0\n",
       "3    0\n",
       "4    0\n",
       "Name: stress, dtype: int32"
      ]
     },
     "execution_count": 275,
     "metadata": {},
     "output_type": "execute_result"
    }
   ],
   "source": [
    "y.head()"
   ]
  },
  {
   "cell_type": "markdown",
   "id": "86cffa72-bc81-4332-bd94-395faf452de2",
   "metadata": {},
   "source": [
    "## Model Fitting"
   ]
  },
  {
   "cell_type": "code",
   "execution_count": 276,
   "id": "7f7ad888-db12-41cb-985d-9e6b471e6dee",
   "metadata": {},
   "outputs": [],
   "source": [
    "from sklearn.model_selection import train_test_split"
   ]
  },
  {
   "cell_type": "code",
   "execution_count": 277,
   "id": "44b21106-5fdb-41c9-9165-aa40a4af9a03",
   "metadata": {},
   "outputs": [],
   "source": [
    "x_train,x_test,y_train,y_test = train_test_split(X,y, test_size=.2, random_state=5, stratify=y)"
   ]
  },
  {
   "cell_type": "code",
   "execution_count": 278,
   "id": "a4d6be00-e7b2-4719-9d80-67a000068cfe",
   "metadata": {},
   "outputs": [
    {
     "data": {
      "text/plain": [
       "((3303, 7), (826, 7), (3303,), (826,))"
      ]
     },
     "execution_count": 278,
     "metadata": {},
     "output_type": "execute_result"
    }
   ],
   "source": [
    "x_train.shape, x_test.shape, y_train.shape ,y_test.shape"
   ]
  },
  {
   "cell_type": "code",
   "execution_count": 279,
   "id": "01eaa711-5037-44c5-aab7-bb8ad6436a11",
   "metadata": {},
   "outputs": [],
   "source": [
    "#Various Machine Learning Models\n",
    "from sklearn.linear_model import LogisticRegression\n",
    "from sklearn.tree import DecisionTreeClassifier\n",
    "from sklearn.ensemble import RandomForestClassifier\n",
    "from sklearn.neighbors import KNeighborsClassifier\n",
    "from sklearn.naive_bayes import GaussianNB\n",
    "from sklearn.svm import SVC\n",
    "from sklearn.ensemble import AdaBoostClassifier, GradientBoostingClassifier\n",
    "from xgboost import XGBClassifier\n",
    "\n",
    "\n",
    "\n",
    "models = []\n",
    "models.append(('rf', RandomForestClassifier()))\n",
    "models.append(('lr', LogisticRegression()))\n",
    "models.append(('CART', DecisionTreeClassifier()))\n",
    "models.append(('KNN', KNeighborsClassifier()))\n",
    "models.append(('NB', GaussianNB()))\n",
    "models.append(('SVM', SVC(gamma='auto')))\n",
    "models.append(('AdaBoost', AdaBoostClassifier()))\n",
    "models.append(('GBM', GradientBoostingClassifier()))\n",
    "models.append(('XGB', XGBClassifier()))"
   ]
  },
  {
   "cell_type": "code",
   "execution_count": 281,
   "id": "7d97d11b-ad5a-48c1-902e-cab24eae5053",
   "metadata": {},
   "outputs": [],
   "source": [
    "from sklearn.metrics import accuracy_score, recall_score, f1_score"
   ]
  },
  {
   "cell_type": "code",
   "execution_count": 280,
   "id": "1c15700a-7b0e-49c0-b4aa-80b73260fdc4",
   "metadata": {},
   "outputs": [
    {
     "data": {
      "text/plain": [
       "[('rf', RandomForestClassifier()),\n",
       " ('lr', LogisticRegression()),\n",
       " ('CART', DecisionTreeClassifier()),\n",
       " ('KNN', KNeighborsClassifier()),\n",
       " ('NB', GaussianNB()),\n",
       " ('SVM', SVC(gamma='auto')),\n",
       " ('AdaBoost', AdaBoostClassifier()),\n",
       " ('GBM', GradientBoostingClassifier()),\n",
       " ('XGB',\n",
       "  XGBClassifier(base_score=None, booster=None, callbacks=None,\n",
       "                colsample_bylevel=None, colsample_bynode=None,\n",
       "                colsample_bytree=None, device=None, early_stopping_rounds=None,\n",
       "                enable_categorical=False, eval_metric=None, feature_types=None,\n",
       "                gamma=None, grow_policy=None, importance_type=None,\n",
       "                interaction_constraints=None, learning_rate=None, max_bin=None,\n",
       "                max_cat_threshold=None, max_cat_to_onehot=None,\n",
       "                max_delta_step=None, max_depth=None, max_leaves=None,\n",
       "                min_child_weight=None, missing=nan, monotone_constraints=None,\n",
       "                multi_strategy=None, n_estimators=None, n_jobs=None,\n",
       "                num_parallel_tree=None, random_state=None, ...))]"
      ]
     },
     "execution_count": 280,
     "metadata": {},
     "output_type": "execute_result"
    }
   ],
   "source": [
    "models"
   ]
  },
  {
   "cell_type": "code",
   "execution_count": 109,
   "id": "7ae4d400-cc06-4d62-92f1-af37d524f8ec",
   "metadata": {},
   "outputs": [
    {
     "name": "stdout",
     "output_type": "stream",
     "text": [
      "Model: rf\n",
      "  Accuracy: 0.7700\n",
      "  Recall: 0.7700\n",
      "  F1 Score: 0.7696\n",
      "------------------------------\n",
      "Model: lr\n",
      "  Accuracy: 0.5969\n",
      "  Recall: 0.5970\n",
      "  F1 Score: 0.5965\n",
      "------------------------------\n",
      "Model: CART\n",
      "  Accuracy: 0.7530\n",
      "  Recall: 0.7539\n",
      "  F1 Score: 0.7529\n",
      "------------------------------\n",
      "Model: KNN\n",
      "  Accuracy: 0.7397\n",
      "  Recall: 0.7368\n",
      "  F1 Score: 0.7373\n",
      "------------------------------\n",
      "Model: NB\n",
      "  Accuracy: 0.5642\n",
      "  Recall: 0.5607\n",
      "  F1 Score: 0.5600\n",
      "------------------------------\n",
      "Model: SVM\n",
      "  Accuracy: 0.6538\n",
      "  Recall: 0.6458\n",
      "  F1 Score: 0.6409\n",
      "------------------------------\n",
      "Model: AdaBoost\n",
      "  Accuracy: 0.6768\n",
      "  Recall: 0.6714\n",
      "  F1 Score: 0.6704\n",
      "------------------------------\n",
      "Model: GBM\n",
      "  Accuracy: 0.7046\n",
      "  Recall: 0.6980\n",
      "  F1 Score: 0.6964\n",
      "------------------------------\n",
      "Model: XGB\n",
      "  Accuracy: 0.7663\n",
      "  Recall: 0.7636\n",
      "  F1 Score: 0.7643\n",
      "------------------------------\n"
     ]
    }
   ],
   "source": [
    "for name, model in models:\n",
    "    model.fit(x_train, y_train)\n",
    "    y_pred = model.predict(x_test)\n",
    "\n",
    "    accuracy = accuracy_score(y_test, y_pred)\n",
    "    recall = recall_score(y_test, y_pred, average='macro')  # Adjust 'average' as needed\n",
    "    f1 = f1_score(y_test, y_pred, average='macro')  # Adjust 'average' as needed\n",
    "\n",
    "    print(f\"Model: {name}\")\n",
    "    print(f\"  Accuracy: {accuracy:.4f}\")\n",
    "    print(f\"  Recall: {recall:.4f}\")\n",
    "    print(f\"  F1 Score: {f1:.4f}\")\n",
    "    print(\"-\" * 30)"
   ]
  },
  {
   "cell_type": "code",
   "execution_count": 124,
   "id": "cf402eb6-6656-48d6-b750-709c2d454d49",
   "metadata": {},
   "outputs": [
    {
     "name": "stdout",
     "output_type": "stream",
     "text": [
      "Fitting 5 folds for each of 216 candidates, totalling 1080 fits\n",
      "Best Hyperparameters: {'bootstrap': True, 'max_depth': 20, 'min_samples_leaf': 1, 'min_samples_split': 2, 'n_estimators': 200}\n"
     ]
    }
   ],
   "source": [
    "from sklearn.model_selection import GridSearchCV\n",
    "rf = RandomForestClassifier(random_state=42)\n",
    "\n",
    "# Define the hyperparameter grid\n",
    "param_grid = {\n",
    "    'n_estimators': [100, 200, 300],  # Number of trees in the forest\n",
    "    'max_depth': [10, 20, 30, None],  # Maximum depth of the tree\n",
    "    'min_samples_split': [2, 5, 10],  # Minimum number of samples required to split a node\n",
    "    'min_samples_leaf': [1, 2, 4],    # Minimum number of samples required to be at a leaf node\n",
    "    'bootstrap': [True, False]        # Whether to use bootstrap samples\n",
    "}\n",
    "\n",
    "# Perform Grid Search with Cross-Validation\n",
    "grid_search = GridSearchCV(estimator=rf, param_grid=param_grid, \n",
    "                           cv=5,  # 5-fold cross-validation\n",
    "                           n_jobs=-1,  # Use all available cores\n",
    "                           verbose=2,  # Output more detailed results\n",
    "                           scoring='accuracy')  # You can change the scoring metric based on your need\n",
    "\n",
    "# Fit the GridSearchCV to the training data\n",
    "grid_search.fit(x_train, y_train)\n",
    "\n",
    "# Best hyperparameters from the grid search\n",
    "print(\"Best Hyperparameters:\", grid_search.best_params_)\n",
    "\n",
    "# Best estimator (model with the best hyperparameters)\n",
    "best_rf = grid_search.best_estimator_\n",
    "\n"
   ]
  },
  {
   "cell_type": "code",
   "execution_count": 282,
   "id": "3280426e-c7be-42a5-9d61-816adf9b42b7",
   "metadata": {},
   "outputs": [
    {
     "name": "stdout",
     "output_type": "stream",
     "text": [
      "  Accuracy: 0.7688\n",
      "  Recall: 0.7690\n",
      "  F1 Score: 0.7685\n"
     ]
    }
   ],
   "source": [
    "#Best Hyperparameters: {'bootstrap': True, 'max_depth': 20, 'min_samples_leaf': 1, 'min_samples_split': 2, 'n_estimators': 200}\n",
    "rf=RandomForestClassifier( max_depth=40, min_samples_leaf= 1, min_samples_split= 2, n_estimators= 100)\n",
    "m1=rf.fit(x_train,y_train)\n",
    "y_pred=m1.predict(x_test)\n",
    "accuracy = accuracy_score(y_test, y_pred)\n",
    "recall = recall_score(y_test, y_pred, average='macro')\n",
    "f1 = f1_score(y_test, y_pred, average='macro')\n",
    "print(f\"  Accuracy: {accuracy:.4f}\")\n",
    "print(f\"  Recall: {recall:.4f}\")\n",
    "print(f\"  F1 Score: {f1:.4f}\")\n"
   ]
  },
  {
   "cell_type": "code",
   "execution_count": 283,
   "id": "d24aede5-1dab-4e88-a152-3c3314c3a39c",
   "metadata": {},
   "outputs": [],
   "source": [
    "x_test['stress'] = y_pred "
   ]
  },
  {
   "cell_type": "code",
   "execution_count": 284,
   "id": "81757ba7-9905-48f1-8279-5ddd74321988",
   "metadata": {},
   "outputs": [
    {
     "data": {
      "text/html": [
       "<div>\n",
       "<style scoped>\n",
       "    .dataframe tbody tr th:only-of-type {\n",
       "        vertical-align: middle;\n",
       "    }\n",
       "\n",
       "    .dataframe tbody tr th {\n",
       "        vertical-align: top;\n",
       "    }\n",
       "\n",
       "    .dataframe thead th {\n",
       "        text-align: right;\n",
       "    }\n",
       "</style>\n",
       "<table border=\"1\" class=\"dataframe\">\n",
       "  <thead>\n",
       "    <tr style=\"text-align: right;\">\n",
       "      <th></th>\n",
       "      <th>HR</th>\n",
       "      <th>interval in seconds</th>\n",
       "      <th>AVNN</th>\n",
       "      <th>RMSSD</th>\n",
       "      <th>pNN50</th>\n",
       "      <th>VLF</th>\n",
       "      <th>HF</th>\n",
       "      <th>stress</th>\n",
       "    </tr>\n",
       "  </thead>\n",
       "  <tbody>\n",
       "    <tr>\n",
       "      <th>1563</th>\n",
       "      <td>78.609756</td>\n",
       "      <td>0.766195</td>\n",
       "      <td>0.766000</td>\n",
       "      <td>0.010248</td>\n",
       "      <td>0.025641</td>\n",
       "      <td>0.000000</td>\n",
       "      <td>0.000000</td>\n",
       "      <td>0</td>\n",
       "    </tr>\n",
       "    <tr>\n",
       "      <th>1725</th>\n",
       "      <td>74.609024</td>\n",
       "      <td>0.839000</td>\n",
       "      <td>0.839000</td>\n",
       "      <td>0.000000</td>\n",
       "      <td>0.000000</td>\n",
       "      <td>0.000000</td>\n",
       "      <td>0.000000</td>\n",
       "      <td>1</td>\n",
       "    </tr>\n",
       "    <tr>\n",
       "      <th>1768</th>\n",
       "      <td>72.169854</td>\n",
       "      <td>0.847205</td>\n",
       "      <td>0.847421</td>\n",
       "      <td>0.010521</td>\n",
       "      <td>0.027027</td>\n",
       "      <td>0.000000</td>\n",
       "      <td>0.000000</td>\n",
       "      <td>0</td>\n",
       "    </tr>\n",
       "    <tr>\n",
       "      <th>177</th>\n",
       "      <td>84.068182</td>\n",
       "      <td>0.710000</td>\n",
       "      <td>0.710000</td>\n",
       "      <td>0.000000</td>\n",
       "      <td>0.000000</td>\n",
       "      <td>0.000728</td>\n",
       "      <td>0.000001</td>\n",
       "      <td>0</td>\n",
       "    </tr>\n",
       "    <tr>\n",
       "      <th>2475</th>\n",
       "      <td>78.243902</td>\n",
       "      <td>0.766195</td>\n",
       "      <td>0.766000</td>\n",
       "      <td>0.010248</td>\n",
       "      <td>0.025641</td>\n",
       "      <td>0.000000</td>\n",
       "      <td>0.000000</td>\n",
       "      <td>1</td>\n",
       "    </tr>\n",
       "  </tbody>\n",
       "</table>\n",
       "</div>"
      ],
      "text/plain": [
       "             HR  interval in seconds      AVNN     RMSSD     pNN50       VLF  \\\n",
       "1563  78.609756             0.766195  0.766000  0.010248  0.025641  0.000000   \n",
       "1725  74.609024             0.839000  0.839000  0.000000  0.000000  0.000000   \n",
       "1768  72.169854             0.847205  0.847421  0.010521  0.027027  0.000000   \n",
       "177   84.068182             0.710000  0.710000  0.000000  0.000000  0.000728   \n",
       "2475  78.243902             0.766195  0.766000  0.010248  0.025641  0.000000   \n",
       "\n",
       "            HF  stress  \n",
       "1563  0.000000       0  \n",
       "1725  0.000000       1  \n",
       "1768  0.000000       0  \n",
       "177   0.000001       0  \n",
       "2475  0.000000       1  "
      ]
     },
     "execution_count": 284,
     "metadata": {},
     "output_type": "execute_result"
    }
   ],
   "source": [
    "x_test.head()"
   ]
  },
  {
   "cell_type": "raw",
   "id": "f0a20658-6005-4265-81ec-5d5fb1ef81b7",
   "metadata": {},
   "source": [
    "Here our project objective is to predict wheather the person have depression or not, but we don't have the depression column given here\n",
    "so we approach this problem by creating a new variable named 'depression' by combining the conditions for low RMSSD and high stress. \n",
    "The threshold values can be obtained by np.percentile."
   ]
  },
  {
   "cell_type": "code",
   "execution_count": 285,
   "id": "85d65b07-b791-4115-a253-73ac51df76fb",
   "metadata": {},
   "outputs": [
    {
     "name": "stdout",
     "output_type": "stream",
     "text": [
      "Mean RMSSD: 0.027222691671106802\n",
      "Standard Deviation RMSSD: 0.01696428391829531\n",
      "25th Percentile RMSSD: 0.0137433\n"
     ]
    }
   ],
   "source": [
    "rmssd_mean = data1['RMSSD'].mean()\n",
    "rmssd_std = data1['RMSSD'].std()\n",
    "rmssd_25th_percentile = np.percentile(data1['RMSSD'], 25)\n",
    "\n",
    "print(f\"Mean RMSSD: {rmssd_mean}\")\n",
    "print(f\"Standard Deviation RMSSD: {rmssd_std}\")\n",
    "print(f\"25th Percentile RMSSD: {rmssd_25th_percentile}\")"
   ]
  },
  {
   "cell_type": "code",
   "execution_count": 286,
   "id": "c6e75a4a-ddb7-4686-9901-6d7aa6f7b6a0",
   "metadata": {},
   "outputs": [],
   "source": [
    "def dep_calc(test_data='', predictor = \"none\",needed=''):\n",
    "    test_data = preprocessing(test_data)\n",
    "    data_for_pred = test_data[needed].fillna(0)\n",
    "    pred = predictor.predict_proba(data_for_pred)\n",
    "    \n",
    "    dfpredict = pd.DataFrame(pred)\n",
    "\n",
    "    dfpredict.columns = [[\"FALSE\",\"TRUE\"]]\n",
    "    dfpredict['stress'] = np.where(dfpredict[\"TRUE\"] > 0.5, 1, np.nan)\n",
    "\n",
    "    \n",
    "    test_data[\"stress\"] = dfpredict[\"stress\"]\n",
    "    test_data.loc[test_data[\"steps\"] > 30, 'stress'] = np.nan\n",
    "    test_data['depression'] = ((test_data['stress'] == 1) & (test_data['RMSSD'] < 0.014)).astype(int)\n",
    "    \n",
    "    return test_data"
   ]
  },
  {
   "cell_type": "markdown",
   "id": "5f2e6118-4fd8-4b50-ad7d-11ade71c805d",
   "metadata": {},
   "source": [
    "## Prediction"
   ]
  },
  {
   "cell_type": "code",
   "execution_count": 289,
   "id": "1ecf1bf2-43e7-43f6-987e-e14b766beb30",
   "metadata": {},
   "outputs": [],
   "source": [
    "df= pd.read_csv('dataset/Vikings/Female_24_years_old/dfnewHRV.csv')"
   ]
  },
  {
   "cell_type": "code",
   "execution_count": 290,
   "id": "78a4f2c3-0008-4402-9dc2-b12747c4dee7",
   "metadata": {},
   "outputs": [
    {
     "data": {
      "text/html": [
       "<div>\n",
       "<style scoped>\n",
       "    .dataframe tbody tr th:only-of-type {\n",
       "        vertical-align: middle;\n",
       "    }\n",
       "\n",
       "    .dataframe tbody tr th {\n",
       "        vertical-align: top;\n",
       "    }\n",
       "\n",
       "    .dataframe thead th {\n",
       "        text-align: right;\n",
       "    }\n",
       "</style>\n",
       "<table border=\"1\" class=\"dataframe\">\n",
       "  <thead>\n",
       "    <tr style=\"text-align: right;\">\n",
       "      <th></th>\n",
       "      <th>calories</th>\n",
       "      <th>distance</th>\n",
       "      <th>floors</th>\n",
       "      <th>heart</th>\n",
       "      <th>interval in seconds</th>\n",
       "      <th>newtime</th>\n",
       "      <th>nntime</th>\n",
       "      <th>rrmedfilt</th>\n",
       "      <th>steps</th>\n",
       "      <th>NNRR</th>\n",
       "      <th>AVNN</th>\n",
       "      <th>SDNN</th>\n",
       "      <th>RMSSD</th>\n",
       "      <th>pNN50</th>\n",
       "      <th>TP</th>\n",
       "      <th>ULF</th>\n",
       "      <th>VLF</th>\n",
       "      <th>LF</th>\n",
       "      <th>HF</th>\n",
       "      <th>LF_HF</th>\n",
       "      <th>HR</th>\n",
       "    </tr>\n",
       "  </thead>\n",
       "  <tbody>\n",
       "    <tr>\n",
       "      <th>0</th>\n",
       "      <td>1.504656</td>\n",
       "      <td>0.0</td>\n",
       "      <td>0.0</td>\n",
       "      <td>84.6</td>\n",
       "      <td>0.688867</td>\n",
       "      <td>9563.733333</td>\n",
       "      <td>9563.733333</td>\n",
       "      <td>687.033333</td>\n",
       "      <td>0.0</td>\n",
       "      <td>0.966667</td>\n",
       "      <td>0.690552</td>\n",
       "      <td>0.071482</td>\n",
       "      <td>0.03319</td>\n",
       "      <td>0.142857</td>\n",
       "      <td>0.004869</td>\n",
       "      <td>0.004869</td>\n",
       "      <td>0.0</td>\n",
       "      <td>0.0</td>\n",
       "      <td>0.0</td>\n",
       "      <td>NaN</td>\n",
       "      <td>84.6</td>\n",
       "    </tr>\n",
       "  </tbody>\n",
       "</table>\n",
       "</div>"
      ],
      "text/plain": [
       "   calories  distance  floors  heart  interval in seconds      newtime  \\\n",
       "0  1.504656       0.0     0.0   84.6             0.688867  9563.733333   \n",
       "\n",
       "        nntime   rrmedfilt  steps      NNRR      AVNN      SDNN    RMSSD  \\\n",
       "0  9563.733333  687.033333    0.0  0.966667  0.690552  0.071482  0.03319   \n",
       "\n",
       "      pNN50        TP       ULF  VLF   LF   HF  LF_HF    HR  \n",
       "0  0.142857  0.004869  0.004869  0.0  0.0  0.0    NaN  84.6  "
      ]
     },
     "execution_count": 290,
     "metadata": {},
     "output_type": "execute_result"
    }
   ],
   "source": [
    "df.head(1)"
   ]
  },
  {
   "cell_type": "code",
   "execution_count": 292,
   "id": "2820c5e0-f127-4ac2-a578-83abd3f30d3e",
   "metadata": {},
   "outputs": [],
   "source": [
    "df= dep_calc(df,m1,needed)"
   ]
  },
  {
   "cell_type": "code",
   "execution_count": 293,
   "id": "80475856-b700-455a-9145-9fe637c9f2c5",
   "metadata": {
    "scrolled": true
   },
   "outputs": [
    {
     "data": {
      "text/html": [
       "<div>\n",
       "<style scoped>\n",
       "    .dataframe tbody tr th:only-of-type {\n",
       "        vertical-align: middle;\n",
       "    }\n",
       "\n",
       "    .dataframe tbody tr th {\n",
       "        vertical-align: top;\n",
       "    }\n",
       "\n",
       "    .dataframe thead th {\n",
       "        text-align: right;\n",
       "    }\n",
       "</style>\n",
       "<table border=\"1\" class=\"dataframe\">\n",
       "  <thead>\n",
       "    <tr style=\"text-align: right;\">\n",
       "      <th></th>\n",
       "      <th>index</th>\n",
       "      <th>calories</th>\n",
       "      <th>distance</th>\n",
       "      <th>floors</th>\n",
       "      <th>heart</th>\n",
       "      <th>interval in seconds</th>\n",
       "      <th>newtime</th>\n",
       "      <th>nntime</th>\n",
       "      <th>rrmedfilt</th>\n",
       "      <th>steps</th>\n",
       "      <th>NNRR</th>\n",
       "      <th>AVNN</th>\n",
       "      <th>SDNN</th>\n",
       "      <th>RMSSD</th>\n",
       "      <th>pNN50</th>\n",
       "      <th>TP</th>\n",
       "      <th>ULF</th>\n",
       "      <th>VLF</th>\n",
       "      <th>LF</th>\n",
       "      <th>HF</th>\n",
       "      <th>LF_HF</th>\n",
       "      <th>HR</th>\n",
       "      <th>stress</th>\n",
       "      <th>depression</th>\n",
       "    </tr>\n",
       "  </thead>\n",
       "  <tbody>\n",
       "    <tr>\n",
       "      <th>0</th>\n",
       "      <td>0</td>\n",
       "      <td>1.504656</td>\n",
       "      <td>0.0</td>\n",
       "      <td>0.0</td>\n",
       "      <td>84.6</td>\n",
       "      <td>0.688867</td>\n",
       "      <td>9563.733333</td>\n",
       "      <td>9563.733333</td>\n",
       "      <td>687.033333</td>\n",
       "      <td>0.0</td>\n",
       "      <td>0.966667</td>\n",
       "      <td>0.690552</td>\n",
       "      <td>0.071482</td>\n",
       "      <td>0.03319</td>\n",
       "      <td>0.142857</td>\n",
       "      <td>0.004869</td>\n",
       "      <td>0.004869</td>\n",
       "      <td>0.0</td>\n",
       "      <td>0.0</td>\n",
       "      <td>0.0</td>\n",
       "      <td>NaN</td>\n",
       "      <td>79.0</td>\n",
       "      <td>1.0</td>\n",
       "      <td>0</td>\n",
       "    </tr>\n",
       "  </tbody>\n",
       "</table>\n",
       "</div>"
      ],
      "text/plain": [
       "   index  calories  distance  floors  heart  interval in seconds      newtime  \\\n",
       "0      0  1.504656       0.0     0.0   84.6             0.688867  9563.733333   \n",
       "\n",
       "        nntime   rrmedfilt  steps      NNRR      AVNN      SDNN    RMSSD  \\\n",
       "0  9563.733333  687.033333    0.0  0.966667  0.690552  0.071482  0.03319   \n",
       "\n",
       "      pNN50        TP       ULF  VLF   LF   HF  LF_HF    HR  stress  \\\n",
       "0  0.142857  0.004869  0.004869  0.0  0.0  0.0    NaN  79.0     1.0   \n",
       "\n",
       "   depression  \n",
       "0           0  "
      ]
     },
     "execution_count": 293,
     "metadata": {},
     "output_type": "execute_result"
    }
   ],
   "source": [
    "df.head(1)"
   ]
  },
  {
   "cell_type": "code",
   "execution_count": 294,
   "id": "d6808593-f6d3-40d7-8793-a6275a56fcb7",
   "metadata": {},
   "outputs": [
    {
     "data": {
      "text/plain": [
       "depression\n",
       "0    181\n",
       "1      4\n",
       "Name: count, dtype: int64"
      ]
     },
     "execution_count": 294,
     "metadata": {},
     "output_type": "execute_result"
    }
   ],
   "source": [
    "df.depression.value_counts()"
   ]
  },
  {
   "cell_type": "code",
   "execution_count": 296,
   "id": "20260ab9-4d4f-44da-9e23-091baa763a9e",
   "metadata": {},
   "outputs": [
    {
     "data": {
      "text/html": [
       "<div>\n",
       "<style scoped>\n",
       "    .dataframe tbody tr th:only-of-type {\n",
       "        vertical-align: middle;\n",
       "    }\n",
       "\n",
       "    .dataframe tbody tr th {\n",
       "        vertical-align: top;\n",
       "    }\n",
       "\n",
       "    .dataframe thead th {\n",
       "        text-align: right;\n",
       "    }\n",
       "</style>\n",
       "<table border=\"1\" class=\"dataframe\">\n",
       "  <thead>\n",
       "    <tr style=\"text-align: right;\">\n",
       "      <th></th>\n",
       "      <th>index</th>\n",
       "      <th>calories</th>\n",
       "      <th>distance</th>\n",
       "      <th>floors</th>\n",
       "      <th>heart</th>\n",
       "      <th>interval in seconds</th>\n",
       "      <th>newtime</th>\n",
       "      <th>nntime</th>\n",
       "      <th>rrmedfilt</th>\n",
       "      <th>steps</th>\n",
       "      <th>NNRR</th>\n",
       "      <th>AVNN</th>\n",
       "      <th>SDNN</th>\n",
       "      <th>RMSSD</th>\n",
       "      <th>pNN50</th>\n",
       "      <th>TP</th>\n",
       "      <th>ULF</th>\n",
       "      <th>VLF</th>\n",
       "      <th>LF</th>\n",
       "      <th>HF</th>\n",
       "      <th>LF_HF</th>\n",
       "      <th>HR</th>\n",
       "      <th>stress</th>\n",
       "      <th>depression</th>\n",
       "    </tr>\n",
       "  </thead>\n",
       "  <tbody>\n",
       "    <tr>\n",
       "      <th>18</th>\n",
       "      <td>18</td>\n",
       "      <td>3.96576</td>\n",
       "      <td>0.0183</td>\n",
       "      <td>0.0</td>\n",
       "      <td>80.0</td>\n",
       "      <td>0.548027</td>\n",
       "      <td>3.768583e+05</td>\n",
       "      <td>3.768583e+05</td>\n",
       "      <td>548.324324</td>\n",
       "      <td>26.0</td>\n",
       "      <td>0.972973</td>\n",
       "      <td>0.548111</td>\n",
       "      <td>0.009340</td>\n",
       "      <td>0.005477</td>\n",
       "      <td>0.0</td>\n",
       "      <td>0.000086</td>\n",
       "      <td>0.000086</td>\n",
       "      <td>0.0</td>\n",
       "      <td>0.0</td>\n",
       "      <td>0.0</td>\n",
       "      <td>NaN</td>\n",
       "      <td>80.0</td>\n",
       "      <td>1.0</td>\n",
       "      <td>1</td>\n",
       "    </tr>\n",
       "    <tr>\n",
       "      <th>78</th>\n",
       "      <td>78</td>\n",
       "      <td>5.83200</td>\n",
       "      <td>0.0211</td>\n",
       "      <td>0.0</td>\n",
       "      <td>104.0</td>\n",
       "      <td>0.626000</td>\n",
       "      <td>1.592896e+06</td>\n",
       "      <td>1.592896e+06</td>\n",
       "      <td>625.437500</td>\n",
       "      <td>30.0</td>\n",
       "      <td>0.968750</td>\n",
       "      <td>0.626710</td>\n",
       "      <td>0.016642</td>\n",
       "      <td>0.009225</td>\n",
       "      <td>0.0</td>\n",
       "      <td>0.000273</td>\n",
       "      <td>0.000273</td>\n",
       "      <td>0.0</td>\n",
       "      <td>0.0</td>\n",
       "      <td>0.0</td>\n",
       "      <td>NaN</td>\n",
       "      <td>104.0</td>\n",
       "      <td>1.0</td>\n",
       "      <td>1</td>\n",
       "    </tr>\n",
       "    <tr>\n",
       "      <th>79</th>\n",
       "      <td>79</td>\n",
       "      <td>5.83200</td>\n",
       "      <td>0.0211</td>\n",
       "      <td>0.0</td>\n",
       "      <td>104.0</td>\n",
       "      <td>0.567500</td>\n",
       "      <td>1.613226e+06</td>\n",
       "      <td>1.613226e+06</td>\n",
       "      <td>567.805556</td>\n",
       "      <td>30.0</td>\n",
       "      <td>0.972222</td>\n",
       "      <td>0.566429</td>\n",
       "      <td>0.025267</td>\n",
       "      <td>0.009038</td>\n",
       "      <td>0.0</td>\n",
       "      <td>0.000607</td>\n",
       "      <td>0.000607</td>\n",
       "      <td>0.0</td>\n",
       "      <td>0.0</td>\n",
       "      <td>0.0</td>\n",
       "      <td>NaN</td>\n",
       "      <td>104.0</td>\n",
       "      <td>1.0</td>\n",
       "      <td>1</td>\n",
       "    </tr>\n",
       "    <tr>\n",
       "      <th>81</th>\n",
       "      <td>81</td>\n",
       "      <td>4.66560</td>\n",
       "      <td>0.0070</td>\n",
       "      <td>0.0</td>\n",
       "      <td>93.0</td>\n",
       "      <td>0.608364</td>\n",
       "      <td>1.653897e+06</td>\n",
       "      <td>1.653897e+06</td>\n",
       "      <td>608.363636</td>\n",
       "      <td>10.0</td>\n",
       "      <td>0.969697</td>\n",
       "      <td>0.609813</td>\n",
       "      <td>0.036983</td>\n",
       "      <td>0.009927</td>\n",
       "      <td>0.0</td>\n",
       "      <td>0.001298</td>\n",
       "      <td>0.001298</td>\n",
       "      <td>0.0</td>\n",
       "      <td>0.0</td>\n",
       "      <td>0.0</td>\n",
       "      <td>NaN</td>\n",
       "      <td>93.0</td>\n",
       "      <td>1.0</td>\n",
       "      <td>1</td>\n",
       "    </tr>\n",
       "  </tbody>\n",
       "</table>\n",
       "</div>"
      ],
      "text/plain": [
       "    index  calories  distance  floors  heart  interval in seconds  \\\n",
       "18     18   3.96576    0.0183     0.0   80.0             0.548027   \n",
       "78     78   5.83200    0.0211     0.0  104.0             0.626000   \n",
       "79     79   5.83200    0.0211     0.0  104.0             0.567500   \n",
       "81     81   4.66560    0.0070     0.0   93.0             0.608364   \n",
       "\n",
       "         newtime        nntime   rrmedfilt  steps      NNRR      AVNN  \\\n",
       "18  3.768583e+05  3.768583e+05  548.324324   26.0  0.972973  0.548111   \n",
       "78  1.592896e+06  1.592896e+06  625.437500   30.0  0.968750  0.626710   \n",
       "79  1.613226e+06  1.613226e+06  567.805556   30.0  0.972222  0.566429   \n",
       "81  1.653897e+06  1.653897e+06  608.363636   10.0  0.969697  0.609813   \n",
       "\n",
       "        SDNN     RMSSD  pNN50        TP       ULF  VLF   LF   HF  LF_HF  \\\n",
       "18  0.009340  0.005477    0.0  0.000086  0.000086  0.0  0.0  0.0    NaN   \n",
       "78  0.016642  0.009225    0.0  0.000273  0.000273  0.0  0.0  0.0    NaN   \n",
       "79  0.025267  0.009038    0.0  0.000607  0.000607  0.0  0.0  0.0    NaN   \n",
       "81  0.036983  0.009927    0.0  0.001298  0.001298  0.0  0.0  0.0    NaN   \n",
       "\n",
       "       HR  stress  depression  \n",
       "18   80.0     1.0           1  \n",
       "78  104.0     1.0           1  \n",
       "79  104.0     1.0           1  \n",
       "81   93.0     1.0           1  "
      ]
     },
     "execution_count": 296,
     "metadata": {},
     "output_type": "execute_result"
    }
   ],
   "source": [
    "df[df.depression==1]"
   ]
  }
 ],
 "metadata": {
  "kernelspec": {
   "display_name": "Python 3 (ipykernel)",
   "language": "python",
   "name": "python3"
  },
  "language_info": {
   "codemirror_mode": {
    "name": "ipython",
    "version": 3
   },
   "file_extension": ".py",
   "mimetype": "text/x-python",
   "name": "python",
   "nbconvert_exporter": "python",
   "pygments_lexer": "ipython3",
   "version": "3.11.5"
  }
 },
 "nbformat": 4,
 "nbformat_minor": 5
}
